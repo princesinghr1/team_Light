{
 "cells": [
  {
   "cell_type": "code",
   "execution_count": 4,
   "metadata": {},
   "outputs": [],
   "source": [
    "import pandas as pd\n",
    "import numpy as np\n",
    "import keras\n",
    "from keras.models import Sequential\n",
    "from keras.layers import Dense, Conv1D , MaxPooling1D , Flatten , Dropout , BatchNormalization\n",
    "from sklearn.preprocessing import LabelBinarizer"
   ]
  },
  {
   "cell_type": "code",
   "execution_count": 2,
   "metadata": {},
   "outputs": [
    {
     "data": {
      "text/html": [
       "<div>\n",
       "<style scoped>\n",
       "    .dataframe tbody tr th:only-of-type {\n",
       "        vertical-align: middle;\n",
       "    }\n",
       "\n",
       "    .dataframe tbody tr th {\n",
       "        vertical-align: top;\n",
       "    }\n",
       "\n",
       "    .dataframe thead th {\n",
       "        text-align: right;\n",
       "    }\n",
       "</style>\n",
       "<table border=\"1\" class=\"dataframe\">\n",
       "  <thead>\n",
       "    <tr style=\"text-align: right;\">\n",
       "      <th></th>\n",
       "      <th>0X</th>\n",
       "      <th>0Y</th>\n",
       "      <th>0Z</th>\n",
       "      <th>1X</th>\n",
       "      <th>1Y</th>\n",
       "      <th>1Z</th>\n",
       "      <th>2X</th>\n",
       "      <th>2Y</th>\n",
       "      <th>2Z</th>\n",
       "      <th>3X</th>\n",
       "      <th>...</th>\n",
       "      <th>18X</th>\n",
       "      <th>18Y</th>\n",
       "      <th>18Z</th>\n",
       "      <th>19X</th>\n",
       "      <th>19Y</th>\n",
       "      <th>19Z</th>\n",
       "      <th>20X</th>\n",
       "      <th>20Y</th>\n",
       "      <th>20Z</th>\n",
       "      <th>Target</th>\n",
       "    </tr>\n",
       "  </thead>\n",
       "  <tbody>\n",
       "    <tr>\n",
       "      <th>0</th>\n",
       "      <td>0</td>\n",
       "      <td>0</td>\n",
       "      <td>0</td>\n",
       "      <td>0.001693</td>\n",
       "      <td>-0.063222</td>\n",
       "      <td>-0.002705</td>\n",
       "      <td>0.021882</td>\n",
       "      <td>-0.112794</td>\n",
       "      <td>-0.009597</td>\n",
       "      <td>0.044851</td>\n",
       "      <td>...</td>\n",
       "      <td>0.066708</td>\n",
       "      <td>-0.030895</td>\n",
       "      <td>-0.033927</td>\n",
       "      <td>0.050479</td>\n",
       "      <td>-0.026789</td>\n",
       "      <td>-0.030957</td>\n",
       "      <td>0.041690</td>\n",
       "      <td>-0.018269</td>\n",
       "      <td>-0.023261</td>\n",
       "      <td>0</td>\n",
       "    </tr>\n",
       "    <tr>\n",
       "      <th>1</th>\n",
       "      <td>0</td>\n",
       "      <td>0</td>\n",
       "      <td>0</td>\n",
       "      <td>0.000931</td>\n",
       "      <td>-0.064636</td>\n",
       "      <td>-0.002121</td>\n",
       "      <td>0.020259</td>\n",
       "      <td>-0.113972</td>\n",
       "      <td>-0.009384</td>\n",
       "      <td>0.042877</td>\n",
       "      <td>...</td>\n",
       "      <td>0.066659</td>\n",
       "      <td>-0.036098</td>\n",
       "      <td>-0.034239</td>\n",
       "      <td>0.050206</td>\n",
       "      <td>-0.031295</td>\n",
       "      <td>-0.031593</td>\n",
       "      <td>0.041427</td>\n",
       "      <td>-0.022557</td>\n",
       "      <td>-0.024197</td>\n",
       "      <td>0</td>\n",
       "    </tr>\n",
       "    <tr>\n",
       "      <th>2</th>\n",
       "      <td>0</td>\n",
       "      <td>0</td>\n",
       "      <td>0</td>\n",
       "      <td>0.002767</td>\n",
       "      <td>-0.065940</td>\n",
       "      <td>0.000373</td>\n",
       "      <td>0.022642</td>\n",
       "      <td>-0.115790</td>\n",
       "      <td>-0.005661</td>\n",
       "      <td>0.045305</td>\n",
       "      <td>...</td>\n",
       "      <td>0.067626</td>\n",
       "      <td>-0.037651</td>\n",
       "      <td>-0.031017</td>\n",
       "      <td>0.051662</td>\n",
       "      <td>-0.032724</td>\n",
       "      <td>-0.028540</td>\n",
       "      <td>0.042304</td>\n",
       "      <td>-0.023962</td>\n",
       "      <td>-0.022850</td>\n",
       "      <td>0</td>\n",
       "    </tr>\n",
       "    <tr>\n",
       "      <th>3</th>\n",
       "      <td>0</td>\n",
       "      <td>0</td>\n",
       "      <td>0</td>\n",
       "      <td>0.006193</td>\n",
       "      <td>-0.074820</td>\n",
       "      <td>-0.002584</td>\n",
       "      <td>0.023967</td>\n",
       "      <td>-0.128494</td>\n",
       "      <td>-0.007752</td>\n",
       "      <td>0.045358</td>\n",
       "      <td>...</td>\n",
       "      <td>0.079475</td>\n",
       "      <td>-0.042377</td>\n",
       "      <td>-0.031214</td>\n",
       "      <td>0.064469</td>\n",
       "      <td>-0.037796</td>\n",
       "      <td>-0.032928</td>\n",
       "      <td>0.050491</td>\n",
       "      <td>-0.028083</td>\n",
       "      <td>-0.026147</td>\n",
       "      <td>0</td>\n",
       "    </tr>\n",
       "    <tr>\n",
       "      <th>4</th>\n",
       "      <td>0</td>\n",
       "      <td>0</td>\n",
       "      <td>0</td>\n",
       "      <td>0.005760</td>\n",
       "      <td>-0.071437</td>\n",
       "      <td>-0.001886</td>\n",
       "      <td>0.025458</td>\n",
       "      <td>-0.125086</td>\n",
       "      <td>-0.007858</td>\n",
       "      <td>0.048182</td>\n",
       "      <td>...</td>\n",
       "      <td>0.078772</td>\n",
       "      <td>-0.033679</td>\n",
       "      <td>-0.040696</td>\n",
       "      <td>0.061942</td>\n",
       "      <td>-0.029879</td>\n",
       "      <td>-0.041286</td>\n",
       "      <td>0.047523</td>\n",
       "      <td>-0.019828</td>\n",
       "      <td>-0.033568</td>\n",
       "      <td>0</td>\n",
       "    </tr>\n",
       "  </tbody>\n",
       "</table>\n",
       "<p>5 rows × 64 columns</p>\n",
       "</div>"
      ],
      "text/plain": [
       "   0X  0Y  0Z        1X        1Y        1Z        2X        2Y        2Z  \\\n",
       "0   0   0   0  0.001693 -0.063222 -0.002705  0.021882 -0.112794 -0.009597   \n",
       "1   0   0   0  0.000931 -0.064636 -0.002121  0.020259 -0.113972 -0.009384   \n",
       "2   0   0   0  0.002767 -0.065940  0.000373  0.022642 -0.115790 -0.005661   \n",
       "3   0   0   0  0.006193 -0.074820 -0.002584  0.023967 -0.128494 -0.007752   \n",
       "4   0   0   0  0.005760 -0.071437 -0.001886  0.025458 -0.125086 -0.007858   \n",
       "\n",
       "         3X  ...       18X       18Y       18Z       19X       19Y       19Z  \\\n",
       "0  0.044851  ...  0.066708 -0.030895 -0.033927  0.050479 -0.026789 -0.030957   \n",
       "1  0.042877  ...  0.066659 -0.036098 -0.034239  0.050206 -0.031295 -0.031593   \n",
       "2  0.045305  ...  0.067626 -0.037651 -0.031017  0.051662 -0.032724 -0.028540   \n",
       "3  0.045358  ...  0.079475 -0.042377 -0.031214  0.064469 -0.037796 -0.032928   \n",
       "4  0.048182  ...  0.078772 -0.033679 -0.040696  0.061942 -0.029879 -0.041286   \n",
       "\n",
       "        20X       20Y       20Z  Target  \n",
       "0  0.041690 -0.018269 -0.023261       0  \n",
       "1  0.041427 -0.022557 -0.024197       0  \n",
       "2  0.042304 -0.023962 -0.022850       0  \n",
       "3  0.050491 -0.028083 -0.026147       0  \n",
       "4  0.047523 -0.019828 -0.033568       0  \n",
       "\n",
       "[5 rows x 64 columns]"
      ]
     },
     "execution_count": 2,
     "metadata": {},
     "output_type": "execute_result"
    }
   ],
   "source": [
    "df = pd.read_csv('my_complete_data.csv')\n",
    "df.head(5)"
   ]
  },
  {
   "cell_type": "code",
   "execution_count": 3,
   "metadata": {},
   "outputs": [],
   "source": [
    "y_train = df['Target']\n",
    "label_binarizer = LabelBinarizer()\n",
    "y_train = label_binarizer.fit_transform(y_train)"
   ]
  },
  {
   "cell_type": "code",
   "execution_count": 4,
   "metadata": {},
   "outputs": [],
   "source": [
    "del df['Target']\n",
    "del df['0X']\n",
    "del df['0Y']\n",
    "del df['0Z']"
   ]
  },
  {
   "cell_type": "code",
   "execution_count": 5,
   "metadata": {},
   "outputs": [
    {
     "data": {
      "text/plain": [
       "array([[ 0.00169295, -0.06322211, -0.00270481, ...,  0.04169005,\n",
       "        -0.018269  , -0.02326144],\n",
       "       [ 0.00093079, -0.06463558, -0.00212076, ...,  0.04142678,\n",
       "        -0.0225575 , -0.02419703],\n",
       "       [ 0.00276697, -0.06593955,  0.00037269, ...,  0.04230434,\n",
       "        -0.02396154, -0.02284959],\n",
       "       ...,\n",
       "       [-0.01036292,  0.05514544, -0.02261073, ..., -0.12730092,\n",
       "        -0.04435897, -0.03524519],\n",
       "       [-0.01055127,  0.05474597, -0.01822193, ..., -0.12355578,\n",
       "        -0.04153284, -0.04090385],\n",
       "       [-0.00896686,  0.05548298, -0.02743807, ..., -0.12672871,\n",
       "        -0.04446638, -0.0339655 ]])"
      ]
     },
     "execution_count": 5,
     "metadata": {},
     "output_type": "execute_result"
    }
   ],
   "source": [
    "x = df.values\n",
    "x"
   ]
  },
  {
   "cell_type": "code",
   "execution_count": 6,
   "metadata": {},
   "outputs": [
    {
     "data": {
      "text/plain": [
       "(15067, 37)"
      ]
     },
     "execution_count": 6,
     "metadata": {},
     "output_type": "execute_result"
    }
   ],
   "source": [
    "y = y_train\n",
    "y.shape"
   ]
  },
  {
   "cell_type": "code",
   "execution_count": 7,
   "metadata": {},
   "outputs": [
    {
     "data": {
      "text/plain": [
       "(15067, 60, 1)"
      ]
     },
     "execution_count": 7,
     "metadata": {},
     "output_type": "execute_result"
    }
   ],
   "source": [
    "x = np.expand_dims(x,-1)\n",
    "x.shape"
   ]
  },
  {
   "cell_type": "code",
   "execution_count": 8,
   "metadata": {},
   "outputs": [
    {
     "name": "stdout",
     "output_type": "stream",
     "text": [
      "Model: \"sequential\"\n",
      "_________________________________________________________________\n",
      "Layer (type)                 Output Shape              Param #   \n",
      "=================================================================\n",
      "conv1d (Conv1D)              (None, 58, 64)            256       \n",
      "_________________________________________________________________\n",
      "conv1d_1 (Conv1D)            (None, 56, 64)            12352     \n",
      "_________________________________________________________________\n",
      "max_pooling1d (MaxPooling1D) (None, 28, 64)            0         \n",
      "_________________________________________________________________\n",
      "conv1d_2 (Conv1D)            (None, 26, 128)           24704     \n",
      "_________________________________________________________________\n",
      "conv1d_3 (Conv1D)            (None, 24, 128)           49280     \n",
      "_________________________________________________________________\n",
      "max_pooling1d_1 (MaxPooling1 (None, 12, 128)           0         \n",
      "_________________________________________________________________\n",
      "flatten (Flatten)            (None, 1536)              0         \n",
      "_________________________________________________________________\n",
      "dense (Dense)                (None, 748)               1149676   \n",
      "_________________________________________________________________\n",
      "dense_1 (Dense)              (None, 512)               383488    \n",
      "_________________________________________________________________\n",
      "dense_2 (Dense)              (None, 37)                18981     \n",
      "=================================================================\n",
      "Total params: 1,638,737\n",
      "Trainable params: 1,638,737\n",
      "Non-trainable params: 0\n",
      "_________________________________________________________________\n"
     ]
    }
   ],
   "source": [
    "model = Sequential()\n",
    "\n",
    "model.add(Conv1D(filters=64, kernel_size=3, activation='relu',input_shape=(60,1)))\n",
    "model.add(Conv1D(filters=64, kernel_size=3, activation='relu'))\n",
    "model.add(MaxPooling1D(pool_size=2))\n",
    "model.add(Conv1D(filters=128, kernel_size=3, activation='relu'))\n",
    "model.add(Conv1D(filters=128, kernel_size=3, activation='relu'))\n",
    "model.add(MaxPooling1D(pool_size=2))\n",
    "model.add(Flatten())\n",
    "model.add(Dense(748, activation='relu'))\n",
    "model.add(Dense(512, activation='relu'))\n",
    "model.add(Dense(37, activation='softmax'))\n",
    "model.compile(loss='categorical_crossentropy', optimizer='adam', metrics=['accuracy'])\n",
    "\n",
    "model.summary()"
   ]
  },
  {
   "cell_type": "code",
   "execution_count": 9,
   "metadata": {},
   "outputs": [
    {
     "name": "stdout",
     "output_type": "stream",
     "text": [
      "Epoch 1/5\n",
      "236/236 [==============================] - 17s 73ms/step - loss: 0.9443 - accuracy: 0.7315 - val_loss: 0.1045 - val_accuracy: 0.9780\n",
      "Epoch 2/5\n",
      "236/236 [==============================] - 15s 64ms/step - loss: 0.1021 - accuracy: 0.9760 - val_loss: 0.0540 - val_accuracy: 0.9868\n",
      "Epoch 3/5\n",
      "236/236 [==============================] - 16s 66ms/step - loss: 0.0691 - accuracy: 0.9817 - val_loss: 0.0470 - val_accuracy: 0.9881\n",
      "Epoch 4/5\n",
      "236/236 [==============================] - 15s 66ms/step - loss: 0.0601 - accuracy: 0.9833 - val_loss: 0.0378 - val_accuracy: 0.9890\n",
      "Epoch 5/5\n",
      "236/236 [==============================] - 16s 66ms/step - loss: 0.0471 - accuracy: 0.9873 - val_loss: 0.0392 - val_accuracy: 0.9883\n"
     ]
    }
   ],
   "source": [
    "history = model.fit(x, y,validation_data = (x,y), epochs=5, batch_size=64)"
   ]
  },
  {
   "cell_type": "code",
   "execution_count": 10,
   "metadata": {},
   "outputs": [],
   "source": [
    "y_pred = model.predict(x)\n",
    "#Converting predictions to label\n",
    "pred = list()\n",
    "for i in range(len(y_pred)):\n",
    "    pred.append(np.argmax(y_pred[i]))\n",
    "#Converting one hot encoded test label to label\n",
    "test = list()\n",
    "for i in range(len(y)):\n",
    "    test.append(np.argmax(y[i]))"
   ]
  },
  {
   "cell_type": "code",
   "execution_count": 11,
   "metadata": {},
   "outputs": [
    {
     "name": "stdout",
     "output_type": "stream",
     "text": [
      "Accuracy is: 98.8252472290436\n"
     ]
    }
   ],
   "source": [
    "from sklearn.metrics import accuracy_score\n",
    "a = accuracy_score(pred,test)\n",
    "print('Accuracy is:', a*100)"
   ]
  },
  {
   "cell_type": "code",
   "execution_count": 12,
   "metadata": {},
   "outputs": [
    {
     "data": {
      "image/png": "[encoded data removed]",
      "text/plain": [
       "<Figure size 432x288 with 1 Axes>"
      ]
     },
     "metadata": {
      "needs_background": "light"
     },
     "output_type": "display_data"
    }
   ],
   "source": [
    "import matplotlib.pyplot as plt\n",
    "plt.plot(history.history['accuracy'])\n",
    "plt.plot(history.history['val_accuracy'])\n",
    "plt.title('Model accuracy')\n",
    "plt.ylabel('Accuracy')\n",
    "plt.xlabel('Epoch')\n",
    "plt.legend(['Train', 'Test'], loc='upper left')\n",
    "plt.show()"
   ]
  },
  {
   "cell_type": "code",
   "execution_count": 13,
   "metadata": {},
   "outputs": [
    {
     "name": "stdout",
     "output_type": "stream",
     "text": [
      "WARNING:tensorflow:From C:\\Users\\Lenovo\\AppData\\Roaming\\Python\\Python37\\site-packages\\tensorflow\\python\\training\\tracking\\tracking.py:111: Model.state_updates (from tensorflow.python.keras.engine.training) is deprecated and will be removed in a future version.\n",
      "Instructions for updating:\n",
      "This property should not be used in TensorFlow 2.0, as updates are applied automatically.\n",
      "WARNING:tensorflow:From C:\\Users\\Lenovo\\AppData\\Roaming\\Python\\Python37\\site-packages\\tensorflow\\python\\training\\tracking\\tracking.py:111: Layer.updates (from tensorflow.python.keras.engine.base_layer) is deprecated and will be removed in a future version.\n",
      "Instructions for updating:\n",
      "This property should not be used in TensorFlow 2.0, as updates are applied automatically.\n",
      "INFO:tensorflow:Assets written to: my_img_model\\assets\n"
     ]
    }
   ],
   "source": [
    "model.save(\"my_img_model\")"
   ]
  },
  {
   "cell_type": "code",
   "execution_count": 5,
   "metadata": {},
   "outputs": [],
   "source": [
    "from keras.models import load_model\n",
    "model=load_model(\"my_img_model\")"
   ]
  },
  {
   "cell_type": "code",
   "execution_count": null,
   "metadata": {},
   "outputs": [
    {
     "name": "stdout",
     "output_type": "stream",
     "text": [
      "5\n",
      "55\n",
      "555\n",
      "\n",
      "5\n",
      "55\n",
      "555\n",
      "5557\n",
      "55575\n"
     ]
    }
   ],
   "source": [
    "import cv2\n",
    "Char=\"0123456789ABCDEFGHIJKLMNOPQRSTUVWXYZ$\"\n",
    "import mediapipe as mp\n",
    "mp_drawing = mp.solutions.drawing_utils\n",
    "mp_hands = mp.solutions.hands\n",
    "\n",
    "\n",
    "password=\"PRINCE\"\n",
    "passlist=[]\n",
    "psw=\"\"\n",
    "for i in range(37):\n",
    "    passlist.append(0)\n",
    "# text cv2 puttext\n",
    "\n",
    "font                   = cv2.FONT_HERSHEY_SIMPLEX\n",
    "location = (100,50)\n",
    "fontScale              = 1\n",
    "fontColor              = (255,255,255)\n",
    "lineType               = 2\n",
    "\n",
    "\n",
    "# For webcam input:\n",
    "hands = mp_hands.Hands(\n",
    "    min_detection_confidence=0.5, min_tracking_confidence=0.5)\n",
    "cap = cv2.VideoCapture(0)\n",
    "while cap.isOpened():\n",
    "    success, image = cap.read()\n",
    "    if not success:\n",
    "        break\n",
    "\n",
    "  # Flip the image horizontally for a later selfie-view display, and convert\n",
    "  # the BGR image to RGB.\n",
    "    image = cv2.cvtColor(cv2.flip(image, 1), cv2.COLOR_BGR2RGB)\n",
    "  # To improve performance, optionally mark the image as not writeable to\n",
    "  # pass by reference.\n",
    "    image.flags.writeable = False\n",
    "    results = hands.process(image)\n",
    "\n",
    "  # Draw the hand annotations on the image.\n",
    "    image.flags.writeable = True\n",
    "    image = cv2.cvtColor(image, cv2.COLOR_RGB2BGR)\n",
    "    if results.multi_hand_landmarks:\n",
    "        L=[]\n",
    "        for hand_landmarks in results.multi_hand_landmarks:\n",
    "            mp_drawing.draw_landmarks(image, hand_landmarks, mp_hands.HAND_CONNECTIONS)\n",
    "            land = hand_landmarks\n",
    "            val = land.landmark\n",
    "            first=val[0];\n",
    "            for j in val:\n",
    "                L.append(j.x-first.x);\n",
    "                L.append(j.y-first.y);\n",
    "                L.append(j.z-first.z);\n",
    "            break\n",
    "        L=L[3::]\n",
    "        L=np.array(L)\n",
    "        x = np.expand_dims(L,0)\n",
    "        x = np.expand_dims(x,-1)\n",
    "        fi=int(np.argmax(model.predict(x)))\n",
    "        if passlist[fi]>20:\n",
    "            if Char[fi]!=\"$\":\n",
    "                psw=psw+Char[fi]\n",
    "            else:\n",
    "                psw=\"\"\n",
    "            print(psw)\n",
    "            passlist=[]\n",
    "            for i in range(37):\n",
    "                passlist.append(0)     \n",
    "        else:\n",
    "            passlist[fi]+=1\n",
    "        text=Char[fi]\n",
    "        cv2.putText(image,text, (0,50), cv2.FONT_HERSHEY_SIMPLEX, 2, (0,0,255), 3, cv2.LINE_AA)\n",
    "    else:\n",
    "        cv2.putText(image,'No Hands!', location, font, fontScale,fontColor,lineType)\n",
    "    if(psw==password):\n",
    "        cv2.imshow(\"MediaPipe Hands\", image)\n",
    "        print(\"OK PASSWORD Verified!!!\")\n",
    "        break\n",
    "    cv2.imshow('MediaPipe Hands', image)\n",
    "    key = cv2.waitKey(1)\n",
    "    if key == 27:\n",
    "        break\n",
    "hands.close()\n",
    "cap.release()\n",
    "cv2.destroyAllWindows()"
   ]
  },
  {
   "cell_type": "code",
   "execution_count": null,
   "metadata": {},
   "outputs": [],
   "source": []
  }
 ],
 "metadata": {
  "kernelspec": {
   "display_name": "Python 3",
   "language": "python",
   "name": "python3"
  },
  "language_info": {
   "codemirror_mode": {
    "name": "ipython",
    "version": 3
   },
   "file_extension": ".py",
   "mimetype": "text/x-python",
   "name": "python",
   "nbconvert_exporter": "python",
   "pygments_lexer": "ipython3",
   "version": "3.7.9"
  }
 },
 "nbformat": 4,
 "nbformat_minor": 4
}
