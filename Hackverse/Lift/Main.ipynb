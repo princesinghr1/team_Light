{
 "cells": [
  {
   "cell_type": "code",
   "execution_count": 2,
   "metadata": {},
   "outputs": [
    {
     "name": "stderr",
     "output_type": "stream",
     "text": [
      "Using TensorFlow backend.\n"
     ]
    }
   ],
   "source": [
    "from keras.models import load_model\n",
    "import numpy as np\n",
    "import cv2\n",
    "import mediapipe as mp\n",
    "mp_drawing = mp.solutions.drawing_utils\n",
    "mp_hands = mp.solutions.hands\n",
    "model=load_model(\"Liftmodel\")"
   ]
  },
  {
   "cell_type": "code",
   "execution_count": 3,
   "metadata": {},
   "outputs": [],
   "source": [
    "Char=\"0123456789DOU$\"\n",
    "\n",
    "font        = cv2.FONT_HERSHEY_SIMPLEX\n",
    "location    = (100,50)\n",
    "fontScale   = 1\n",
    "fontColor   = (255,255,255)\n",
    "lineType    = 2\n",
    "\n",
    "\n",
    "# For webcam input:\n",
    "hands = mp_hands.Hands(\n",
    "    min_detection_confidence=0.5, min_tracking_confidence=0.5)\n",
    "cap = cv2.VideoCapture(0)\n",
    "while cap.isOpened():\n",
    "    success, image = cap.read()\n",
    "    if not success:\n",
    "        break\n",
    "\n",
    "  # Flip the image horizontally for a later selfie-view display, and convert\n",
    "  # the BGR image to RGB.\n",
    "    image = cv2.cvtColor(cv2.flip(image, 1), cv2.COLOR_BGR2RGB)\n",
    "  # To improve performance, optionally mark the image as not writeable to\n",
    "  # pass by reference.\n",
    "    image.flags.writeable = False\n",
    "    results = hands.process(image)\n",
    "\n",
    "  # Draw the hand annotations on the image.\n",
    "    image.flags.writeable = True\n",
    "    image = cv2.cvtColor(image, cv2.COLOR_RGB2BGR)\n",
    "    if results.multi_hand_landmarks:\n",
    "        L=[]\n",
    "        for hand_landmarks in results.multi_hand_landmarks:\n",
    "            mp_drawing.draw_landmarks(image, hand_landmarks, mp_hands.HAND_CONNECTIONS)\n",
    "            land = hand_landmarks\n",
    "            val = land.landmark\n",
    "            first=val[0];\n",
    "            for j in val:\n",
    "                L.append(j.x-first.x);\n",
    "                L.append(j.y-first.y);\n",
    "                L.append(j.z-first.z);\n",
    "            break\n",
    "        L=L[3::]\n",
    "        L=np.array(L)\n",
    "        x = np.expand_dims(L,0)\n",
    "        x = np.expand_dims(x,-1)\n",
    "        fi=int(np.argmax(model.predict(x)))\n",
    "        text=Char[fi]\n",
    "        if Char[fi]==\"O\":\n",
    "            text=\"Ok!\"\n",
    "        elif Char[fi]==\"U\":\n",
    "            text=\"Press Up\"\n",
    "        elif Char[fi]==\"D\":\n",
    "            text=\"Press Down\"\n",
    "        elif Char[fi]==\"$\":\n",
    "            text=\"Cancel Previous\"\n",
    "        cv2.putText(image,text, (0,50), cv2.FONT_HERSHEY_SIMPLEX, 2, (0,0,255), 3, cv2.LINE_AA)\n",
    "    else:\n",
    "        cv2.putText(image,'No Hands!', location, font, fontScale,fontColor,lineType)\n",
    "    \n",
    "    cv2.imshow('MediaPipe Hands', image)\n",
    "    key = cv2.waitKey(1)\n",
    "    if key == 27:\n",
    "        break\n",
    "hands.close()\n",
    "cap.release()\n",
    "cv2.destroyAllWindows()"
   ]
  },
  {
   "cell_type": "code",
   "execution_count": null,
   "metadata": {},
   "outputs": [],
   "source": []
  }
 ],
 "metadata": {
  "kernelspec": {
   "display_name": "Python 3",
   "language": "python",
   "name": "python3"
  },
  "language_info": {
   "codemirror_mode": {
    "name": "ipython",
    "version": 3
   },
   "file_extension": ".py",
   "mimetype": "text/x-python",
   "name": "python",
   "nbconvert_exporter": "python",
   "pygments_lexer": "ipython3",
   "version": "3.7.9"
  }
 },
 "nbformat": 4,
 "nbformat_minor": 4
}
